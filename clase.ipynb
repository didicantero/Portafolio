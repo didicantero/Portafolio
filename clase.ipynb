{
  "nbformat": 4,
  "nbformat_minor": 0,
  "metadata": {
    "colab": {
      "provenance": [],
      "toc_visible": true,
      "authorship_tag": "ABX9TyPyX0QHpHAmVyJWISawNF80",
      "include_colab_link": true
    },
    "kernelspec": {
      "name": "python3",
      "display_name": "Python 3"
    },
    "language_info": {
      "name": "python"
    }
  },
  "cells": [
    {
      "cell_type": "markdown",
      "metadata": {
        "id": "view-in-github",
        "colab_type": "text"
      },
      "source": [
        "<a href=\"https://colab.research.google.com/github/didicantero/Portafolio/blob/main/clase.ipynb\" target=\"_parent\"><img src=\"https://colab.research.google.com/assets/colab-badge.svg\" alt=\"Open In Colab\"/></a>"
      ]
    },
    {
      "cell_type": "markdown",
      "source": [
        "##Pyton para data SCience"
      ],
      "metadata": {
        "id": "JOHwaXKfF6uJ"
      }
    },
    {
      "cell_type": "code",
      "source": [
        "print(\"hola mundo\")"
      ],
      "metadata": {
        "colab": {
          "base_uri": "https://localhost:8080/"
        },
        "id": "SxYg9WQXd-wl",
        "outputId": "ab9abf02-ad6b-471d-edf6-10e20ddbd4ce"
      },
      "execution_count": 5,
      "outputs": [
        {
          "output_type": "stream",
          "name": "stdout",
          "text": [
            "hola mundo\n"
          ]
        }
      ]
    },
    {
      "cell_type": "markdown",
      "source": [
        "***Variables***\n"
      ],
      "metadata": {
        "id": "F7uv_Fh0pj_X"
      }
    },
    {
      "cell_type": "code",
      "source": [
        "c_vigilante=5\n",
        "s_vigilante=300\n",
        "\n",
        "c_docente=16\n",
        "s_docente=500\n",
        "\n",
        "c_coordinador=2\n",
        "s_coordinador=600\n",
        "\n",
        "total_empleados=c_vigilante+c_docente+c_coordinador\n",
        "total_empleados\n"
      ],
      "metadata": {
        "colab": {
          "base_uri": "https://localhost:8080/"
        },
        "id": "CE8F1CJbiZhK",
        "outputId": "d158f97d-d79e-46af-ad3b-3432596e915f"
      },
      "execution_count": 1,
      "outputs": [
        {
          "output_type": "execute_result",
          "data": {
            "text/plain": [
              "23"
            ]
          },
          "metadata": {},
          "execution_count": 1
        }
      ]
    },
    {
      "cell_type": "code",
      "source": [
        "promedio_salario=(c_vigilante*s_vigilante+c_docente*s_docente+c_coordinador*s_coordinador)/total_empleados\n",
        "promedio_salario"
      ],
      "metadata": {
        "colab": {
          "base_uri": "https://localhost:8080/"
        },
        "id": "Z1EAEOtvl4Za",
        "outputId": "0991a95f-83d3-4d8c-e3fc-bb7efcccf6f9"
      },
      "execution_count": 2,
      "outputs": [
        {
          "output_type": "execute_result",
          "data": {
            "text/plain": [
              "465.2173913043478"
            ]
          },
          "metadata": {},
          "execution_count": 2
        }
      ]
    },
    {
      "cell_type": "code",
      "source": [
        "nombre_alumno = 'Penélope Camacho'\n",
        "edad_alumno = 11\n",
        "media_alumno = 9.95\n",
        "print('Nombre del alumno es %s, tiene %d años y su media es %f.' %(nombre_alumno, edad_alumno, media_alumno))"
      ],
      "metadata": {
        "colab": {
          "base_uri": "https://localhost:8080/"
        },
        "id": "9bS4xfawBB7Z",
        "outputId": "602aa58a-dfd3-4496-fdf9-eb21f74347fc"
      },
      "execution_count": 3,
      "outputs": [
        {
          "output_type": "stream",
          "name": "stdout",
          "text": [
            "Nombre del alumno es Penélope Camacho, tiene 11 años y su media es 9.950000.\n"
          ]
        }
      ]
    },
    {
      "cell_type": "markdown",
      "source": [
        "#Recopilación y muestra de datos"
      ],
      "metadata": {
        "id": "lcr1KdYrCat0"
      }
    },
    {
      "cell_type": "code",
      "source": [
        "#1 - Crea un programa que solicite al usuario que escriba su nombre y luego imprima \"Hola, [nombre].\"\n",
        "nombre=input(\"ingrese su nombre:\")\n",
        "print(\"Hola,\",nombre)\n",
        "\n"
      ],
      "metadata": {
        "colab": {
          "base_uri": "https://localhost:8080/"
        },
        "id": "MmYSrvBuCfL0",
        "outputId": "6b6ca557-3731-44c9-a0e1-5a38b1284380"
      },
      "execution_count": 10,
      "outputs": [
        {
          "output_type": "stream",
          "name": "stdout",
          "text": [
            "ingrese su nombre:maria\n",
            "Hola, maria\n"
          ]
        }
      ]
    },
    {
      "cell_type": "code",
      "source": [],
      "metadata": {
        "id": "ARNsqZfAGIx_"
      },
      "execution_count": null,
      "outputs": []
    },
    {
      "cell_type": "code",
      "source": [
        "#2 - Crea un programa que solicite al usuario que escriba su nombre y edad, y\n",
        "# luego imprima \"Hola, [nombre], tienes [edad] años.\"\n",
        "\n",
        "#2 - Crea un programa que solicite al usuario que escriba su nombre y edad, y\n",
        "# luego imprima \"Hola, [nombre], tienes [edad] años.\"\n",
        "\n",
        "#2 - Crea un programa que solicite al usuario que escriba su nombre y edad, y\n",
        "# luego imprima \"Hola, [nombre], tienes [edad] años.\"\n",
        "\n",
        "#2 - Crea un programa que solicite al usuario que escriba su nombre y edad, y\n",
        "# luego imprima \"Hola, [nombre], tienes [edad] años.\"\n",
        "#opcion 1\n",
        "\n",
        "nombre_usuario=input(\"ingrese su nombre:\")\n",
        "edad_usuario=input(\"ingrese su edad:\")\n",
        "print (f\"Hola, {nombre_usuario}, tienes {edad_usuario} años\")\n"
      ],
      "metadata": {
        "colab": {
          "base_uri": "https://localhost:8080/"
        },
        "id": "xFbekE47Ds9P",
        "outputId": "0cb1d872-863b-4827-ddf0-f9d0f0ecc112"
      },
      "execution_count": 20,
      "outputs": [
        {
          "output_type": "stream",
          "name": "stdout",
          "text": [
            "ingrese su nombre:Maria\n",
            "ingrese su edad:18\n",
            "Hola, Maria, tienes 18 años\n"
          ]
        }
      ]
    },
    {
      "cell_type": "code",
      "source": [
        "# - Crea un programa que solicite al usuario que escriba su nombre, edad y altura en metros, y\n",
        "#luego imprima \"Hola, [nombre], tienes [edad] años y mides [altura] metros.\""
      ],
      "metadata": {
        "id": "M7m29fDQGADo"
      },
      "execution_count": null,
      "outputs": []
    },
    {
      "cell_type": "code",
      "source": [
        "nombre_usario=input(\"infrese su nombre:\")\n",
        "edad_usuario=input(\"ingrese su edad:\")\n",
        "altura_usuario=input(\"ingrese su altura:\")\n",
        "print (f\"Hola,{nombre_usuario},tienes {edad_usuario} años, y mides {altura_usuario} metros\")"
      ],
      "metadata": {
        "colab": {
          "base_uri": "https://localhost:8080/"
        },
        "id": "edCPi_XaGZEi",
        "outputId": "d4dde800-f36a-437d-9541-94700140db89"
      },
      "execution_count": 22,
      "outputs": [
        {
          "output_type": "stream",
          "name": "stdout",
          "text": [
            "infrese su nombre:Maria\n",
            "ingresesu edad:20\n",
            "ingrese su altura:1.65\n",
            "Hola,Maria,tienes 20 años, y mides 1.65 metros\n"
          ]
        }
      ]
    },
    {
      "cell_type": "markdown",
      "source": [
        "#Calculadora con operadores"
      ],
      "metadata": {
        "id": "xDdZzpVRH11f"
      }
    },
    {
      "cell_type": "code",
      "source": [
        "#4 - Crea un programa que solicite dos valores numéricos al usuario y\n",
        "#luego imprima la suma de ambos valores.\n",
        "numero_1=int(input(\"ingrese un numero:\"))\n",
        "numero_2=int(input(\"ingrese otro numero:\"))\n",
        "suma=numero_1 + numero_2\n",
        "print(f\"lLa suma de los numeros es :{suma}\")"
      ],
      "metadata": {
        "colab": {
          "base_uri": "https://localhost:8080/"
        },
        "id": "iijKFj6vH32O",
        "outputId": "94db1dad-930a-4f0a-fabd-b087386691c0"
      },
      "execution_count": 27,
      "outputs": [
        {
          "output_type": "stream",
          "name": "stdout",
          "text": [
            "ingrese un numero:10\n",
            "ingrese otro numero:5\n",
            "lLa suma de los numeros es :15\n"
          ]
        }
      ]
    },
    {
      "cell_type": "markdown",
      "source": [
        "**5** - Crea un programa que solicite tres valores numéricos al usuario y luego imprima la suma de los tres valores."
      ],
      "metadata": {
        "id": "GMorelfgJ0EO"
      }
    },
    {
      "cell_type": "code",
      "source": [
        "numero_1=int(input(\"ingrese el primer numero:\"))\n",
        "numero_2=int(input(\"ingrese el segundo numero:\"))\n",
        "numero_3=int(input(\"ingrese el tercer numero:\"))\n",
        "suma=numero_1+numero_2+numero_3\n",
        "print(f\"la suma de los tres numeros es:{suma}\")"
      ],
      "metadata": {
        "colab": {
          "base_uri": "https://localhost:8080/"
        },
        "id": "FumvEWv-J244",
        "outputId": "fa7a9e97-c511-4c90-99c5-cdc1737b7407"
      },
      "execution_count": 28,
      "outputs": [
        {
          "output_type": "stream",
          "name": "stdout",
          "text": [
            "ingrese el primer numero:10\n",
            "ingrese el segundo numero:5\n",
            "ingrese el tercer numero:10\n",
            "la suma de los tres numeros es:25\n"
          ]
        }
      ]
    },
    {
      "cell_type": "markdown",
      "source": [
        "6 - Crea un programa que solicite dos valores numéricos al usuario y luego imprima la resta del primero menos el segundo valor."
      ],
      "metadata": {
        "id": "Vqm6mCrhKmBm"
      }
    },
    {
      "cell_type": "code",
      "source": [
        "numero_1=int(input(\"ingrese un numero:\"))\n",
        "numero_2=int(input(\"ingrese otro numero:\"))\n",
        "resta=numero_1-numero_2\n",
        "print(f\"la resta de los numeros es:{resta}\")"
      ],
      "metadata": {
        "id": "8ru9g0DyKpSe"
      },
      "execution_count": null,
      "outputs": []
    },
    {
      "cell_type": "markdown",
      "source": [
        "7 - Crea un programa que solicite dos valores numéricos al usuario y luego imprima la multiplicación de los dos valores."
      ],
      "metadata": {
        "id": "2QpyVS2uMNXc"
      }
    },
    {
      "cell_type": "code",
      "source": [
        "numero_1=int(input(\"ingrese un nuero:\"))\n",
        "numero_2=int(input(\"ingrese un segundo numero:\"))\n",
        "producto= numero_1*numero_2\n",
        "print(f\"El producto de los numeros es:{producto}\")"
      ],
      "metadata": {
        "id": "1XeMSPYCMOA1"
      },
      "execution_count": null,
      "outputs": []
    },
    {
      "cell_type": "markdown",
      "source": [
        "8 - Crea un programa que solicite dos valores numéricos, un numerador y un denominador, y realice la división entre los dos valores. Asegúrate de que el valor del denominador no sea igual a 0."
      ],
      "metadata": {
        "id": "KqZ-3_PzPUPj"
      }
    },
    {
      "cell_type": "code",
      "source": [
        "numero_1=int(input(\"ingrese un numero:\"))\n",
        "numero_2=int(input(\"ingrese otro numero:\"))\n",
        "division=numero_1/numero_2\n",
        "print(f\"la division de los numeros es:{division}\")"
      ],
      "metadata": {
        "id": "zBvhjM_CPVfg"
      },
      "execution_count": null,
      "outputs": []
    },
    {
      "cell_type": "markdown",
      "source": [
        "9 - Crea un programa que solicite dos valores numéricos, un operador y una potencia, y realice la exponenciación entre estos dos valores."
      ],
      "metadata": {
        "id": "4fgzv4rAPnDR"
      }
    },
    {
      "cell_type": "code",
      "source": [
        "numero_1=int(input(\"ingrese un numero:\"))\n",
        "numero_2=int(input(\"ingrese otro numero:\"))\n",
        "potencia=numero_1**numero_2\n",
        "print(f\"La potencia de los nmeros es:{potencia}\")"
      ],
      "metadata": {
        "id": "AaJZdhxlPodB"
      },
      "execution_count": null,
      "outputs": []
    },
    {
      "cell_type": "markdown",
      "source": [
        "10 - Crea un programa que solicite dos valores numéricos, un numerador y un denominador, y realice la división entera entre los dos valores. Asegúrate de que el valor del denominador no sea igual a 0."
      ],
      "metadata": {
        "id": "8LQCJhZqh8rZ"
      }
    },
    {
      "cell_type": "code",
      "source": [
        "numero_1=int(input(\"ingrese un numero:\"))\n",
        "numero_2=int(input(\"ingrese  de los numeros es:un segundo numero:\"))\n",
        "division=numero_1//numero_2\n",
        "print(f\"El resultado de la division de los numeros es: {division} \")"
      ],
      "metadata": {
        "colab": {
          "base_uri": "https://localhost:8080/"
        },
        "id": "DQj3-Xx8i06H",
        "outputId": "474f5684-252a-485c-a765-35098eeb4058"
      },
      "execution_count": 36,
      "outputs": [
        {
          "output_type": "stream",
          "name": "stdout",
          "text": [
            "ingrese un numero:10\n",
            "ingrese  de los numeros es:un segundo numero:3\n",
            "El resultado de la division de los numeros es: 3 \n"
          ]
        }
      ]
    },
    {
      "cell_type": "markdown",
      "source": [
        "11 - Crea un programa que solicite dos valores numéricos, un numerador y un denominador, y devuelva el resto de la división entre los dos valores. Asegúrate de que el valor del denominador no sea igual a 0."
      ],
      "metadata": {
        "id": "3IHEl2Z0jsLT"
      }
    },
    {
      "cell_type": "code",
      "source": [
        "numero_1=int(input(\"ingreseun numero:\"))\n",
        "numero_2=int(input(\"ingrese un segundo numero:\"))\n",
        "division=numero_1 % numero_2\n",
        "print(f\"El resto de la división de los numeros es: {division}\")"
      ],
      "metadata": {
        "id": "zoaPSFKmj146"
      },
      "execution_count": null,
      "outputs": []
    },
    {
      "cell_type": "markdown",
      "source": [
        "12 - Crea un código que solicite las 3 notas de un estudiante e imprima el promedio de las notas."
      ],
      "metadata": {
        "id": "FTtL6qqiki9U"
      }
    },
    {
      "cell_type": "code",
      "source": [
        "nota_1=float(input(\"ingrese su primera nota:\"))\n",
        "nota_2=float(input(\"ingrese su segunda nota:\"))\n",
        "nota_3=float(input(\"ingrese su tercera nota:\"))\n",
        "promedio_notas=((nota_1+nota_2+nota_3)/3)\n",
        "print(f\"El promedio de las notas es:{promedio_notas}\")"
      ],
      "metadata": {
        "id": "aDtwAwmtkwex"
      },
      "execution_count": null,
      "outputs": []
    },
    {
      "cell_type": "markdown",
      "source": [
        "13 - Crea un código que calcule e imprima el promedio ponderado de los números 5, 12, 20 y 15 con pesos respectivamente iguales a 1, 2, 3 y 4."
      ],
      "metadata": {
        "id": "6PAbToSlmKND"
      }
    },
    {
      "cell_type": "markdown",
      "source": [],
      "metadata": {
        "id": "mZ1Va9OOmKLf"
      }
    },
    {
      "cell_type": "code",
      "source": [
        "numero_1=5\n",
        "peso_1=1\n",
        "\n",
        "numero_2=12\n",
        "peso_2=2\n",
        "\n",
        "numero_3=20\n",
        "peso_3=3\n",
        "\n",
        "numero_4=15\n",
        "peso_4=4\n",
        "\n",
        "total=numero_1+numero_2+numero_3+numero_4\n",
        "promedio_ponderado=(numero_1*peso_1+numero_2*peso_2+numero_3*peso_3+numero_4*peso_4)/total\n",
        "print(f\"El promedio ponderado de los numeros es:{promedio_ponderado}\")"
      ],
      "metadata": {
        "id": "95lwt6k0mVSK"
      },
      "execution_count": null,
      "outputs": []
    },
    {
      "cell_type": "markdown",
      "source": [
        "Editando **textos**"
      ],
      "metadata": {
        "id": "inzjrp_0oB2g"
      }
    },
    {
      "cell_type": "markdown",
      "source": [
        "14 - Crea una variable llamada \"frase\" y asígnale una cadena de texto de tu elección. Luego, imprime la frase en pantalla."
      ],
      "metadata": {
        "id": "ZWyGlc8ooITA"
      }
    },
    {
      "cell_type": "code",
      "source": [
        "texto= (\"Buen día\")\n",
        "print(texto)\n"
      ],
      "metadata": {
        "id": "EUoT0dk0oJWD"
      },
      "execution_count": null,
      "outputs": []
    },
    {
      "cell_type": "markdown",
      "source": [
        "15.Crea un código que solicite una frase y luego imprima la frase en pantalla."
      ],
      "metadata": {
        "id": "IC9MYDemoYMw"
      }
    },
    {
      "cell_type": "code",
      "source": [
        "frase=input(\"ingrese su frase favorita:\")\n",
        "print(f\"La frase favorita es:{frase}\")\n"
      ],
      "metadata": {
        "id": "CC7eCdLDodRk"
      },
      "execution_count": null,
      "outputs": []
    },
    {
      "cell_type": "markdown",
      "source": [
        "16 - Crea un código que solicite una frase al usuario y luego imprima la misma frase ingresada pero en mayúsculas."
      ],
      "metadata": {
        "id": "dPO691Kco-hv"
      }
    },
    {
      "cell_type": "code",
      "source": [
        "frase=input(\"Ingrese su frase favorita:\")\n",
        "frase_mayusc=frase.upper()\n",
        "print(f\"La frase favorita es :{frase_mayusc}\")"
      ],
      "metadata": {
        "id": "N78Uz2Nao_M9"
      },
      "execution_count": null,
      "outputs": []
    },
    {
      "cell_type": "markdown",
      "source": [
        "17 - Crea un código que solicite una frase al usuario y luego imprima la misma frase ingresada pero en minúsculas."
      ],
      "metadata": {
        "id": "pI61M6nFpyDU"
      }
    },
    {
      "cell_type": "code",
      "source": [
        "frase=input(\"ingrese su frase favorita:\")\n",
        "frase_minuscu= frase.lower()\n",
        "print(f\"La frase favorita es:{frase_minuscu}\")"
      ],
      "metadata": {
        "id": "QijeIJaEpzj2"
      },
      "execution_count": null,
      "outputs": []
    },
    {
      "cell_type": "markdown",
      "source": [
        "18 - Crea una variable llamada \"frase\" y asígnale una cadena de texto de tu elección. Luego, imprime la frase sin espacios en blanco al principio y al final."
      ],
      "metadata": {
        "id": "cFXWXcfPqqoW"
      }
    },
    {
      "cell_type": "code",
      "source": [
        "frase=str(\"  Todo lo puedo \")\n",
        "frase_sin_espacios=frase.strip()\n",
        "print(f\"su frase favorita es:{frase_sin_espacios}\")"
      ],
      "metadata": {
        "colab": {
          "base_uri": "https://localhost:8080/"
        },
        "id": "oXYHqudOq_qE",
        "outputId": "447a39db-3015-4ce2-ad90-3f28959881dc"
      },
      "execution_count": 52,
      "outputs": [
        {
          "output_type": "stream",
          "name": "stdout",
          "text": [
            "su frase favorita es:Todo lo puedo\n"
          ]
        }
      ]
    },
    {
      "cell_type": "markdown",
      "source": [
        "19 - Crea un código que solicite una frase al usuario y luego imprima la misma frase sin espacios en blanco al principio y al final."
      ],
      "metadata": {
        "id": "sDW9M_kzsDBi"
      }
    },
    {
      "cell_type": "code",
      "source": [
        "frase=str(input(\" Ingrese su frase favorita:\"))\n",
        "frase_sin_espacios=frase.strip()\n",
        "print(f\"La frase favorita es:{frase_sin_espacios}\")\n"
      ],
      "metadata": {
        "id": "eg0xf2_4sBiO"
      },
      "execution_count": null,
      "outputs": []
    },
    {
      "cell_type": "markdown",
      "source": [
        "20 - Crea un código que solicite una frase al usuario y luego imprima la misma frase sin espacios en blanco al principio y al final, además de convertirla a minúsculas."
      ],
      "metadata": {
        "id": "8aBszfEmufqc"
      }
    },
    {
      "cell_type": "code",
      "source": [
        "frase=str(input(\"Ingrese su frase favorita:\"))\n",
        "frase_espa_min=frase.strip().lower()\n",
        "print(f\"La frase favorita es:{frase_espa_min}\")"
      ],
      "metadata": {
        "id": "lcL7ti4zuYjR"
      },
      "execution_count": null,
      "outputs": []
    },
    {
      "cell_type": "markdown",
      "source": [
        "21 - Crea un código que solicite una frase al usuario y luego imprima la misma frase con todas las vocales \"e\" reemplazadas por la letra \"f\"."
      ],
      "metadata": {
        "id": "349tITLPvLjQ"
      }
    },
    {
      "cell_type": "code",
      "source": [
        "frase=input(\"ingrese su frase favorita:\")\n",
        "frase_cambio=frase.replace(\"e\",\"f\")\n",
        "print(f\"La frase favorita es:{frase_cambio}\")"
      ],
      "metadata": {
        "id": "Pl3JDllwvPWl"
      },
      "execution_count": null,
      "outputs": []
    },
    {
      "cell_type": "markdown",
      "source": [
        "22 - Crea un código que solicite una frase al usuario y luego imprima la misma frase con todas las vocales \"a\" reemplazadas por el carácter \"@\"."
      ],
      "metadata": {
        "id": "rbZ2TmJb0zrI"
      }
    },
    {
      "cell_type": "code",
      "source": [
        "frase=input(\"ingrese su frase:\")\n",
        "frase_cambiada=frase.replace(\"a\",\"@\")\n",
        "print(f\"La frase es:{frase_cambiada}\")\n"
      ],
      "metadata": {
        "id": "0n0FbSyK002s"
      },
      "execution_count": null,
      "outputs": []
    },
    {
      "cell_type": "markdown",
      "source": [
        "#ESTRUCTURAS CONDICIONALES"
      ],
      "metadata": {
        "id": "9VMzh65zvYF7"
      }
    },
    {
      "cell_type": "code",
      "source": [
        "if 2 > 7:\n",
        "  print(\"La condicion es verdadera\")\n",
        "else:\n",
        "  print(\"La condicion es falsa\")\n",
        "  print(\"Fin de la consulta\")\n"
      ],
      "metadata": {
        "id": "NWl93u0Evepx"
      },
      "execution_count": null,
      "outputs": []
    },
    {
      "cell_type": "code",
      "source": [
        "nota=float(input(\"Ingrese su nota:\"))\n",
        "if nota >=7:\n",
        "  print(\"Aprobado.\")\n",
        "if  7 > nota >=5:\n",
        " print(\"Recuperacion.\")\n",
        "else:\n",
        "  print(\"Reprobado.\")"
      ],
      "metadata": {
        "id": "8rtT99kgzu6s"
      },
      "execution_count": null,
      "outputs": []
    },
    {
      "cell_type": "code",
      "source": [
        "nota=float(input(\"Ingrese su nota:\"))\n",
        "if nota >=7:\n",
        "  print(\"Aprobado.\")\n",
        "elif  7 > nota >=5:\n",
        " print(\"Recuperacion.\")\n",
        "else:\n",
        "  print(\"Reprobado.\")"
      ],
      "metadata": {
        "id": "VNCRxMB05f1R"
      },
      "execution_count": null,
      "outputs": []
    },
    {
      "cell_type": "markdown",
      "source": [
        "#Practicas_condicionales"
      ],
      "metadata": {
        "id": "6GM9Gs_6W64W"
      }
    },
    {
      "cell_type": "markdown",
      "source": [
        "1 - Escribe un programa que pida a la persona usuaria que proporcione dos números y muestre el número más grande"
      ],
      "metadata": {
        "id": "FwT1AZUBXY46"
      }
    },
    {
      "cell_type": "code",
      "source": [
        "numero_1=int(input(\"Ingrese el pimer numero:\"))\n",
        "numero_2=int(input(\"ingrese un segundo numero:\"))\n",
        "if numero_1> numero_2:\n",
        "  print(f\"El numero mas grande es:{numero_1}\")\n",
        "\n",
        "else:\n",
        "  print(f\"El numero mas grande es:{numero_2}\")"
      ],
      "metadata": {
        "id": "dfidW2hQXaa7"
      },
      "execution_count": null,
      "outputs": []
    },
    {
      "cell_type": "markdown",
      "source": [
        "2 - Escribe un programa que solicite el porcentaje de crecimiento de producción de una empresa e informe si hubo un crecimiento (porcentaje positivo) o una disminución (porcentaje negativo).\n"
      ],
      "metadata": {
        "id": "95j4JBisYTcR"
      }
    },
    {
      "cell_type": "code",
      "source": [
        "producion=float(input(\"ingrese la produccion de la empresa:\"))\n",
        "if producion >0:\n",
        "  print(\"Hubo un crecimiento positvo en la produccion.\")\n",
        "else:\n",
        "  print(\"Hubo un crecimiento negativo en la produccion.\")"
      ],
      "metadata": {
        "colab": {
          "base_uri": "https://localhost:8080/"
        },
        "collapsed": true,
        "id": "4XPBKFptYWON",
        "outputId": "eb817ae0-6409-48da-ac78-f8cf409278dc"
      },
      "execution_count": 27,
      "outputs": [
        {
          "output_type": "stream",
          "name": "stdout",
          "text": [
            "ingrese la produccion de la empresa:-20\n",
            "Hubo un crecimiento negativo en la produccion.\n"
          ]
        }
      ]
    },
    {
      "cell_type": "markdown",
      "source": [
        "3 - Escribe un programa que determine si una letra proporcionada por la persona usuaria es una vocal o una consonante."
      ],
      "metadata": {
        "id": "3worEeelbRaE"
      }
    },
    {
      "cell_type": "code",
      "source": [
        "letra=str(input(\"Ingrese una letra:\"))\n",
        "if letra in \"a,e,i,o,u\":\n",
        "  print(f\"La letra es una vocal.\")\n",
        "else:\n",
        "  print(f\"La letra es una consonante.\")"
      ],
      "metadata": {
        "id": "nhzQOSVbbSiw"
      },
      "execution_count": null,
      "outputs": []
    },
    {
      "cell_type": "markdown",
      "source": [
        "4 - Escribe un programa que lea valores promedio de precios de un modelo de automóvil durante 3 años consecutivos y muestre el valor más alto y más bajo entre esos tres años."
      ],
      "metadata": {
        "id": "CzgM-1S9cNpr"
      }
    },
    {
      "cell_type": "code",
      "source": [
        "valor_1=float(input(\"Ingrese el primer valor:\"))\n",
        "valor_2=float(input(\"Ingrese el segundo valor:\"))\n",
        "valor_3=float(input(\"Ingrese el tercer valor:\"))\n",
        "\n",
        "if valor_1> valor_2 and valor_1> valor_3:\n",
        "  print(f\"El valor mas alto es:{valor_1}\")\n",
        "elif valor_2> valor_1 and valor_2> valor_3:\n",
        "  print(f\"El valor mas alto es:{valor_2}\")\n",
        "elif valor_3> valor_1 and valor_3> valor_2:\n",
        "  print(f\"El valor mas alto es:{valor_3}\")\n",
        "\n",
        "if valor_1 < valor_2 and valor_1 < valor_3:\n",
        "  print(f\"El valor mas bajo es:{valor_1}.\")\n",
        "elif valor_2 < valor_1 and valor_2 < valor_3:\n",
        "  print(f\"El valor mas bajo es:{valor_2}.\")\n",
        "elif valor_3< valor_1 and valor_3 < valor_2:\n",
        "  print(f\"el valor mas bajo es{valor_3}.\")"
      ],
      "metadata": {
        "id": "Y1ZR7PPJcOpH"
      },
      "execution_count": null,
      "outputs": []
    },
    {
      "cell_type": "markdown",
      "source": [
        "5-Escribe un programa que pregunte sobre el precio de tres productos e indique cuál es el producto más barato para comprar."
      ],
      "metadata": {
        "id": "yx5t-7hxlcAv"
      }
    },
    {
      "cell_type": "code",
      "source": [
        "precio_1=float(input(\"Ingrese precio del primer producto:\"))\n",
        "precio_2=float(input(\"Ingrese el precio del segundo producto:\"))\n",
        "precio_3=float(input(\"Ingrese el precio del tercer producto:\"))\n",
        "\n",
        "if precio_1 > precio_2 and precio_1 > precio_3:\n",
        "    print(f\"El precio más alto es: {precio_1}\")\n",
        "elif precio_2 > precio_1 and precio_2 > precio_3:\n",
        "    print(f\"El precio más alto es: {precio_2}\")\n",
        "elif precio_3 > precio_1 and precio_3 > precio_2:\n",
        "    print(f\"El precio más alto es: {precio_3}\")\n",
        "\n",
        "if precio_1 < precio_2 and precio_1 < precio_3:\n",
        "    print(f\"El precio más bajo es: {precio_1}\")\n",
        "elif precio_2 < precio_1 and precio_2 < precio_3:\n",
        "    print(f\"El precio más bajo es: {precio_2}\")\n",
        "elif precio_3 < precio_1 and precio_3 < precio_2:\n",
        "    print(f\"El precio más bajo es: {precio_3}\")"
      ],
      "metadata": {
        "id": "DjX3KEYUn9Jl"
      },
      "execution_count": null,
      "outputs": []
    },
    {
      "cell_type": "markdown",
      "source": [
        "6 - Escribe un programa que lea tres números y los muestre en orden descendente."
      ],
      "metadata": {
        "id": "AMOLtFOprwVl"
      }
    },
    {
      "cell_type": "code",
      "source": [],
      "metadata": {
        "id": "xMNgmCSwrxTg"
      },
      "execution_count": null,
      "outputs": []
    }
  ]
}